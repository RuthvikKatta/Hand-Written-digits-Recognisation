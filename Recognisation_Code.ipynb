{
  "cells": [
    {
      "cell_type": "markdown",
      "metadata": {
        "id": "view-in-github",
        "colab_type": "text"
      },
      "source": [
        "<a href=\"https://colab.research.google.com/github/RuthvikKatta/Hand-Written-digits-Recognisation/blob/main/MiniProject_ML_20911A3594.ipynb\" target=\"_parent\"><img src=\"https://colab.research.google.com/assets/colab-badge.svg\" alt=\"Open In Colab\"/></a>"
      ]
    },
    {
      "cell_type": "markdown",
      "metadata": {
        "id": "qj1IO83DNZTa"
      },
      "source": [
        "# Machine Learning Model For Recognising Hand Written Digits"
      ]
    },
    {
      "cell_type": "markdown",
      "metadata": {
        "id": "WBx5L1iGNZTf"
      },
      "source": [
        "Importing Required Libraries"
      ]
    },
    {
      "cell_type": "code",
      "execution_count": null,
      "metadata": {
        "id": "aYT_u1aYNZTg"
      },
      "outputs": [],
      "source": [
        "import numpy as np\n",
        "import pandas as pd\n",
        "from matplotlib import pyplot as plt\n",
        "\n",
        "#To Split the Data into Training and Testing \n",
        "from sklearn.model_selection import train_test_split \n",
        "from sklearn.metrics import classification_report,ConfusionMatrixDisplay,accuracy_score\n",
        "\n",
        "#Dataset of Hand Written Digits that is Present in Sklearn Datasets\n",
        "from sklearn.datasets import load_digits"
      ]
    },
    {
      "cell_type": "markdown",
      "metadata": {
        "id": "YIP94cXuNZTh"
      },
      "source": [
        "Digits Dataset (load_digits) .This Dataset is PreLoaded in the Scikit Learn Package's Dataset .This dataset Contains 1797 digit Images which are grayscale Values of each cell in a digit Image."
      ]
    },
    {
      "cell_type": "code",
      "execution_count": null,
      "metadata": {
        "colab": {
          "base_uri": "https://localhost:8080/",
          "height": 168
        },
        "id": "voEY8BHnNZTi",
        "outputId": "f06aac87-914a-4377-a146-46e4e67816f6"
      },
      "outputs": [
        {
          "output_type": "display_data",
          "data": {
            "text/plain": [
              "<Figure size 720x216 with 4 Axes>"
            ],
            "image/png": "[encoded data removed]"
          },
          "metadata": {
            "needs_background": "light"
          }
        }
      ],
      "source": [
        "digits = load_digits()\n",
        "_, axes = plt.subplots(nrows=1, ncols=4, figsize=(10, 3))\n",
        "for ax, image, label in zip(axes, digits.images, digits.target):\n",
        "    ax.set_axis_off()\n",
        "    ax.imshow(image, cmap=plt.cm.gray_r, interpolation=\"nearest\")\n",
        "    ax.set_title(\"Value : %i\" % label)"
      ]
    },
    {
      "cell_type": "markdown",
      "metadata": {
        "id": "vcWPofM2NZTj"
      },
      "source": [
        "Data of a single Digit .The values Represent the grayscale value of that particular cell .Each Image is of size (8x8)"
      ]
    },
    {
      "cell_type": "code",
      "execution_count": null,
      "metadata": {
        "colab": {
          "base_uri": "https://localhost:8080/"
        },
        "id": "l9IQHC_9NZTj",
        "outputId": "4c6cecb6-ac54-4a08-a109-44917a6fa812"
      },
      "outputs": [
        {
          "output_type": "stream",
          "name": "stdout",
          "text": [
            "[[ 0.  0.  5. 13.  9.  1.  0.  0.]\n",
            " [ 0.  0. 13. 15. 10. 15.  5.  0.]\n",
            " [ 0.  3. 15.  2.  0. 11.  8.  0.]\n",
            " [ 0.  4. 12.  0.  0.  8.  8.  0.]\n",
            " [ 0.  5.  8.  0.  0.  9.  8.  0.]\n",
            " [ 0.  4. 11.  0.  1. 12.  7.  0.]\n",
            " [ 0.  2. 14.  5. 10. 12.  0.  0.]\n",
            " [ 0.  0.  6. 13. 10.  0.  0.  0.]]\n",
            "Digit is :  0\n"
          ]
        }
      ],
      "source": [
        "print(digits.images[0])\n",
        "print(\"Digit is : \",digits.target[0])"
      ]
    },
    {
      "cell_type": "markdown",
      "metadata": {
        "id": "mkA0kPgANZTk"
      },
      "source": [
        "Flattening the Images into an One Dimensional Array .Here Flattening the 2D dataset into 1D Array gives an array of size 64."
      ]
    },
    {
      "cell_type": "code",
      "execution_count": null,
      "metadata": {
        "colab": {
          "base_uri": "https://localhost:8080/"
        },
        "id": "AwBfbHWNNZTl",
        "outputId": "3b903f6f-8974-4c0d-8d06-d2f5dca0fc64"
      },
      "outputs": [
        {
          "output_type": "stream",
          "name": "stdout",
          "text": [
            "[ 0.  0.  5. 13.  9.  1.  0.  0.  0.  0. 13. 15. 10. 15.  5.  0.  0.  3.\n",
            " 15.  2.  0. 11.  8.  0.  0.  4. 12.  0.  0.  8.  8.  0.  0.  5.  8.  0.\n",
            "  0.  9.  8.  0.  0.  4. 11.  0.  1. 12.  7.  0.  0.  2. 14.  5. 10. 12.\n",
            "  0.  0.  0.  0.  6. 13. 10.  0.  0.  0.]\n"
          ]
        }
      ],
      "source": [
        "samples = len(digits.images)\n",
        "data = digits.images.reshape(samples,-1)\n",
        "print(data[0])"
      ]
    },
    {
      "cell_type": "markdown",
      "metadata": {
        "id": "X3HXXkGeNZTl"
      },
      "source": [
        "Importing Classifier : Support Vector Machine\n",
        "\n",
        "I Used Support Vector Machine Classifier because it classifies the New Instance More Accurately and using SVM classifier for Digit Classification gives more Accuracy."
      ]
    },
    {
      "cell_type": "code",
      "execution_count": null,
      "metadata": {
        "id": "M0Sg6Dv8NZTm"
      },
      "outputs": [],
      "source": [
        "# importing Classifier\n",
        "from sklearn.svm import SVC\n",
        "svc_clf = SVC(kernel=\"rbf\",gamma=0.001)"
      ]
    },
    {
      "cell_type": "markdown",
      "metadata": {
        "id": "Wr_KQfdINZTm"
      },
      "source": [
        "Splitting Data into Training and Testing. And also training the Model"
      ]
    },
    {
      "cell_type": "code",
      "execution_count": null,
      "metadata": {
        "id": "CRnQqeicNZTm"
      },
      "outputs": [],
      "source": [
        "#Splitting dataset in Training and Testing Datasets\n",
        "X_train,X_test,y_train,y_test = train_test_split(data,digits.target,test_size=0.3,shuffle=False)\n",
        "\n",
        "#Training the Machine\n",
        "svc_clf.fit(X_train,y_train)\n",
        "\n",
        "predicted = svc_clf.predict(X_test)"
      ]
    },
    {
      "cell_type": "code",
      "execution_count": null,
      "metadata": {
        "colab": {
          "base_uri": "https://localhost:8080/"
        },
        "id": "9NBifd8WNZTn",
        "outputId": "44ee81f0-1a73-430b-f090-e6879fa03b0d"
      },
      "outputs": [
        {
          "output_type": "stream",
          "name": "stdout",
          "text": [
            "Classification report for classifier SVC(gamma=0.001):\n",
            "              precision    recall  f1-score   support\n",
            "\n",
            "           0       1.00      0.98      0.99        53\n",
            "           1       0.96      1.00      0.98        53\n",
            "           2       1.00      0.98      0.99        53\n",
            "           3       0.96      0.89      0.92        53\n",
            "           4       0.98      0.95      0.96        57\n",
            "           5       0.95      0.98      0.96        56\n",
            "           6       0.98      0.98      0.98        54\n",
            "           7       1.00      1.00      1.00        54\n",
            "           8       0.91      0.98      0.94        52\n",
            "           9       0.96      0.96      0.96        55\n",
            "\n",
            "    accuracy                           0.97       540\n",
            "   macro avg       0.97      0.97      0.97       540\n",
            "weighted avg       0.97      0.97      0.97       540\n",
            "\n",
            "\n"
          ]
        }
      ],
      "source": [
        "print(\n",
        "    f\"Classification report for classifier {svc_clf}:\\n\"\n",
        "    f\"{classification_report(y_test, predicted)}\\n\"\n",
        ")"
      ]
    },
    {
      "cell_type": "markdown",
      "metadata": {
        "id": "Y18v8hxzNZTn"
      },
      "source": [
        "Accuracy of Model After Training with 70% of Dataset is  :  \"97 percent\" "
      ]
    },
    {
      "cell_type": "markdown",
      "metadata": {
        "id": "8_gKzQbENZTo"
      },
      "source": [
        "Confusion Matrix of SVM Classifier"
      ]
    },
    {
      "cell_type": "code",
      "execution_count": null,
      "metadata": {
        "colab": {
          "base_uri": "https://localhost:8080/",
          "height": 325
        },
        "id": "Bxxa6hITNZTo",
        "outputId": "265933ff-1a99-4981-d601-f759b6e03942"
      },
      "outputs": [
        {
          "output_type": "execute_result",
          "data": {
            "text/plain": [
              "Text(0.5, 0.98, 'Confusion Matrix')"
            ]
          },
          "metadata": {},
          "execution_count": 8
        },
        {
          "output_type": "display_data",
          "data": {
            "text/plain": [
              "<Figure size 432x288 with 2 Axes>"
            ],
            "image/png": "[encoded data removed]"
          },
          "metadata": {
            "needs_background": "light"
          }
        }
      ],
      "source": [
        "disp = ConfusionMatrixDisplay.from_predictions(y_test,predicted)\n",
        "disp.figure_.suptitle(\"Confusion Matrix\")"
      ]
    },
    {
      "cell_type": "markdown",
      "metadata": {
        "id": "acvj1-fFNZTo"
      },
      "source": [
        "Prediction of test Dataset(X_test) by Trained Model"
      ]
    },
    {
      "cell_type": "code",
      "execution_count": null,
      "metadata": {
        "colab": {
          "base_uri": "https://localhost:8080/",
          "height": 118
        },
        "id": "pl-nSIcBNZTp",
        "outputId": "edc0f11f-1504-4847-ddad-7a790d0a4a45"
      },
      "outputs": [
        {
          "output_type": "display_data",
          "data": {
            "text/plain": [
              "<Figure size 1080x360 with 10 Axes>"
            ],
            "image/png": "[encoded data removed]"
          },
          "metadata": {
            "needs_background": "light"
          }
        }
      ],
      "source": [
        "images = []\n",
        "for i in X_test:\n",
        "    images.append(i.reshape(8,8))\n",
        "predicted = svc_clf.predict(X_test)\n",
        "_, axes = plt.subplots(nrows=1,ncols=10,figsize=(15,5))\n",
        "for ax, image, label in zip(axes, images, predicted ):\n",
        "    ax.set_axis_off()\n",
        "    ax.imshow(image, cmap=plt.cm.gray_r, interpolation=\"nearest\")\n",
        "    ax.set_title(\"Predicted : %i\" % label)"
      ]
    },
    {
      "cell_type": "code",
      "execution_count": null,
      "metadata": {
        "colab": {
          "base_uri": "https://localhost:8080/"
        },
        "id": "3j44PiIdNZTp",
        "outputId": "7e938602-5203-4d25-e8b7-54e707f52e8f"
      },
      "outputs": [
        {
          "output_type": "stream",
          "name": "stdout",
          "text": [
            "Predicted Values By Machine :  [4 0 5 3 6 9 6 1 7 5]\n",
            "Original Values of Iamges :  [4 0 5 3 6 9 6 1 7 5]\n"
          ]
        }
      ],
      "source": [
        "print(\"Predicted Values By Machine : \",predicted[:10])\n",
        "print(\"Original Values of Iamges : \",y_test[:10])"
      ]
    },
    {
      "cell_type": "code",
      "execution_count": null,
      "metadata": {
        "colab": {
          "base_uri": "https://localhost:8080/"
        },
        "id": "tH4s8aeINZTp",
        "outputId": "a3c59987-7dd9-4b95-c1d8-88eba5aeacee"
      },
      "outputs": [
        {
          "output_type": "stream",
          "name": "stdout",
          "text": [
            "Training Dataset : 70% and Test Dataset : 30%\n",
            "Total Number of Test Images :  540\n",
            "Number of Wrongly Predicted Images :  16\n",
            "Accuracy :  97.03703703703704\n"
          ]
        }
      ],
      "source": [
        "count=0\n",
        "print(\"Training Dataset : 70% and Test Dataset : 30%\")\n",
        "print(\"Total Number of Test Images : \",len(X_test))\n",
        "for i,j in zip(predicted,y_test):\n",
        "    if i!=j:\n",
        "        count+=1\n",
        "print(\"Number of Wrongly Predicted Images : \",count)\n",
        "print(\"Accuracy : \",(1-(count/len(X_test)))*100)"
      ]
    },
    {
      "cell_type": "markdown",
      "source": [
        "Trainnig Model with different Lengths of Training and Testing Dataset\n",
        "\n",
        "1. Training = 60% and Testing  = 40%\n",
        "2. Training = 50% and Testing  = 50%\n",
        "3. Training = 80% and Testing  = 20%"
      ],
      "metadata": {
        "id": "M6G3qDbPRs3q"
      }
    },
    {
      "cell_type": "code",
      "source": [
        "X_train,X_test,y_train,y_test = train_test_split(data,digits.target,test_size=0.4,shuffle=False)\n",
        "\n",
        "#Training the Machine\n",
        "svc_clf.fit(X_train,y_train)\n",
        "\n",
        "predicted = svc_clf.predict(X_test)"
      ],
      "metadata": {
        "id": "f3lPjsJGOdYA"
      },
      "execution_count": null,
      "outputs": []
    },
    {
      "cell_type": "code",
      "source": [
        "print(\n",
        "    f\"Classification report for classifier {svc_clf}:\\n\"\n",
        "    f\"{classification_report(y_test, predicted)}\\n\"\n",
        ")"
      ],
      "metadata": {
        "colab": {
          "base_uri": "https://localhost:8080/"
        },
        "id": "M3EjTOdVOf7O",
        "outputId": "2700419c-bd11-4aa1-a880-9f484c05543d"
      },
      "execution_count": null,
      "outputs": [
        {
          "output_type": "stream",
          "name": "stdout",
          "text": [
            "Classification report for classifier SVC(gamma=0.001):\n",
            "              precision    recall  f1-score   support\n",
            "\n",
            "           0       0.99      0.99      0.99        71\n",
            "           1       0.99      0.96      0.97        73\n",
            "           2       0.99      0.97      0.98        71\n",
            "           3       0.97      0.84      0.90        74\n",
            "           4       0.99      0.96      0.97        74\n",
            "           5       0.95      0.99      0.97        71\n",
            "           6       0.99      0.99      0.99        74\n",
            "           7       0.95      1.00      0.97        72\n",
            "           8       0.92      1.00      0.96        68\n",
            "           9       0.95      0.97      0.96        71\n",
            "\n",
            "    accuracy                           0.97       719\n",
            "   macro avg       0.97      0.97      0.96       719\n",
            "weighted avg       0.97      0.97      0.96       719\n",
            "\n",
            "\n"
          ]
        }
      ]
    },
    {
      "cell_type": "code",
      "source": [
        "count=0\n",
        "print(\"Training Dataset : 60% and Test Dataset : 40%\")\n",
        "print(\"Total Number of Test Images : \",len(X_test))\n",
        "for i,j in zip(predicted,y_test):\n",
        "    if i!=j:\n",
        "        count+=1\n",
        "print(\"Number of Wrongly Predicted Images : \",count)\n",
        "print(\"Accuracy : \",(1-(count/len(X_test)))*100)"
      ],
      "metadata": {
        "colab": {
          "base_uri": "https://localhost:8080/"
        },
        "id": "_X10nP_hO5Ps",
        "outputId": "91a1f440-45f6-4f73-8c5c-b86e6a262e2d"
      },
      "execution_count": null,
      "outputs": [
        {
          "output_type": "stream",
          "name": "stdout",
          "text": [
            "Training Dataset : 60% and Test Dataset : 40%\n",
            "Total Number of Test Images :  719\n",
            "Number of Wrongly Predicted Images :  25\n",
            "Accuracy :  96.52294853963839\n"
          ]
        }
      ]
    },
    {
      "cell_type": "code",
      "source": [
        "X_train,X_test,y_train,y_test = train_test_split(data,digits.target,test_size=0.5,shuffle=False)\n",
        "\n",
        "#Training the Machine\n",
        "svc_clf.fit(X_train,y_train)\n",
        "\n",
        "predicted = svc_clf.predict(X_test)"
      ],
      "metadata": {
        "id": "g1goXy1COlzL"
      },
      "execution_count": null,
      "outputs": []
    },
    {
      "cell_type": "code",
      "source": [
        "print(\n",
        "    f\"Classification report for classifier {svc_clf}:\\n\"\n",
        "    f\"{classification_report(y_test, predicted)}\\n\"\n",
        ")"
      ],
      "metadata": {
        "colab": {
          "base_uri": "https://localhost:8080/"
        },
        "id": "socTO2LcOrik",
        "outputId": "fcab88f6-0cb1-4e6e-f185-9e8d19417fd1"
      },
      "execution_count": null,
      "outputs": [
        {
          "output_type": "stream",
          "name": "stdout",
          "text": [
            "Classification report for classifier SVC(gamma=0.001):\n",
            "              precision    recall  f1-score   support\n",
            "\n",
            "           0       1.00      0.99      0.99        88\n",
            "           1       0.99      0.97      0.98        91\n",
            "           2       0.99      0.99      0.99        86\n",
            "           3       0.98      0.87      0.92        91\n",
            "           4       0.99      0.96      0.97        92\n",
            "           5       0.95      0.97      0.96        91\n",
            "           6       0.99      0.99      0.99        91\n",
            "           7       0.96      0.99      0.97        89\n",
            "           8       0.94      1.00      0.97        88\n",
            "           9       0.93      0.98      0.95        92\n",
            "\n",
            "    accuracy                           0.97       899\n",
            "   macro avg       0.97      0.97      0.97       899\n",
            "weighted avg       0.97      0.97      0.97       899\n",
            "\n",
            "\n"
          ]
        }
      ]
    },
    {
      "cell_type": "code",
      "source": [
        "count=0\n",
        "print(\"Training Dataset : 50% and Test Dataset : 50%\")\n",
        "print(\"Total Number of Test Images : \",len(X_test))\n",
        "for i,j in zip(predicted,y_test):\n",
        "    if i!=j:\n",
        "        count+=1\n",
        "print(\"Number of Wrongly Predicted Images : \",count)\n",
        "print(\"Accuracy : \",(1-(count/len(X_test)))*100)"
      ],
      "metadata": {
        "colab": {
          "base_uri": "https://localhost:8080/"
        },
        "id": "2pUonINFO6Sx",
        "outputId": "c42426f0-2071-4d20-e431-f7b2a3900a8f"
      },
      "execution_count": null,
      "outputs": [
        {
          "output_type": "stream",
          "name": "stdout",
          "text": [
            "Training Dataset : 50% and Test Dataset : 50%\n",
            "Total Number of Test Images :  899\n",
            "Number of Wrongly Predicted Images :  28\n",
            "Accuracy :  96.88542825361512\n"
          ]
        }
      ]
    },
    {
      "cell_type": "code",
      "source": [
        "X_train,X_test,y_train,y_test = train_test_split(data,digits.target,test_size=0.2,shuffle=False)\n",
        "\n",
        "#Training the Machine\n",
        "svc_clf.fit(X_train,y_train)\n",
        "\n",
        "predicted = svc_clf.predict(X_test)"
      ],
      "metadata": {
        "id": "C5N5DU50OugG"
      },
      "execution_count": null,
      "outputs": []
    },
    {
      "cell_type": "code",
      "source": [
        "print(\n",
        "    f\"Classification report for classifier {svc_clf}:\\n\"\n",
        "    f\"{classification_report(y_test, predicted)}\\n\"\n",
        ")"
      ],
      "metadata": {
        "colab": {
          "base_uri": "https://localhost:8080/"
        },
        "id": "cJwfchuXOxxU",
        "outputId": "4ad0b96d-c625-4680-bd4b-6eb91fe01ef4"
      },
      "execution_count": null,
      "outputs": [
        {
          "output_type": "stream",
          "name": "stdout",
          "text": [
            "Classification report for classifier SVC(gamma=0.001):\n",
            "              precision    recall  f1-score   support\n",
            "\n",
            "           0       1.00      0.97      0.99        35\n",
            "           1       0.97      1.00      0.99        36\n",
            "           2       1.00      1.00      1.00        35\n",
            "           3       0.97      0.81      0.88        37\n",
            "           4       0.97      0.92      0.94        37\n",
            "           5       0.93      1.00      0.96        37\n",
            "           6       1.00      1.00      1.00        37\n",
            "           7       0.97      1.00      0.99        36\n",
            "           8       0.84      0.94      0.89        33\n",
            "           9       0.95      0.95      0.95        37\n",
            "\n",
            "    accuracy                           0.96       360\n",
            "   macro avg       0.96      0.96      0.96       360\n",
            "weighted avg       0.96      0.96      0.96       360\n",
            "\n",
            "\n"
          ]
        }
      ]
    },
    {
      "cell_type": "code",
      "source": [
        "count=0\n",
        "print(\"Training Dataset : 80% and Test Dataset : 20% (OverFit Condition)\")\n",
        "print(\"Total Number of Test Images : \",len(X_test))\n",
        "for i,j in zip(predicted,y_test):\n",
        "    if i!=j:\n",
        "        count+=1\n",
        "print(\"Number of Wrongly Predicted Images : \",count)\n",
        "print(\"Accuracy : \",(1-(count/len(X_test)))*100)"
      ],
      "metadata": {
        "colab": {
          "base_uri": "https://localhost:8080/"
        },
        "id": "0eussI4QO7xW",
        "outputId": "d8714c72-316b-4ef6-9770-44d7ba6959e9"
      },
      "execution_count": null,
      "outputs": [
        {
          "output_type": "stream",
          "name": "stdout",
          "text": [
            "Training Dataset : 80% and Test Dataset : 20% (OverFit Condition)\n",
            "Total Number of Test Images :  360\n",
            "Number of Wrongly Predicted Images :  15\n",
            "Accuracy :  95.83333333333334\n"
          ]
        }
      ]
    },
    {
      "cell_type": "markdown",
      "source": [
        "Conclusion : \n",
        "\n",
        "After Training the SVM Classifier with load_digits() Dataset with different ratios of length of Training and Testing Data .The Highest Accuracy Obtained is 97.03% and The least Accuracy Obtained is 95.83% which is overfit Condition"
      ],
      "metadata": {
        "id": "8MBYuliUSHxG"
      }
    }
  ],
  "metadata": {
    "kernelspec": {
      "display_name": "Python 3.10.7 64-bit",
      "language": "python",
      "name": "python3"
    },
    "language_info": {
      "codemirror_mode": {
        "name": "ipython",
        "version": 3
      },
      "file_extension": ".py",
      "mimetype": "text/x-python",
      "name": "python",
      "nbconvert_exporter": "python",
      "pygments_lexer": "ipython3",
      "version": "3.10.7"
    },
    "orig_nbformat": 4,
    "vscode": {
      "interpreter": {
        "hash": "369f2c481f4da34e4445cda3fffd2e751bd1c4d706f27375911949ba6bb62e1c"
      }
    },
    "colab": {
      "provenance": [],
      "include_colab_link": true
    }
  },
  "nbformat": 4,
  "nbformat_minor": 0
}
